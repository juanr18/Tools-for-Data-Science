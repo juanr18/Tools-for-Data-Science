{
  "metadata": {
    "language_info": {
      "codemirror_mode": {
        "name": "python",
        "version": 3
      },
      "file_extension": ".py",
      "mimetype": "text/x-python",
      "name": "python",
      "nbconvert_exporter": "python",
      "pygments_lexer": "ipython3",
      "version": "3.8"
    },
    "kernelspec": {
      "name": "python",
      "display_name": "Pyolite",
      "language": "python"
    }
  },
  "nbformat_minor": 4,
  "nbformat": 4,
  "cells": [
    {
      "cell_type": "markdown",
      "source": "<H1> Data Science Tools and Ecosystem </H1>",
      "metadata": {
        "tags": []
      }
    },
    {
      "cell_type": "markdown",
      "source": "<H3>In this notebook, Data Science Tools and Ecosystem are summarized.</H3>",
      "metadata": {}
    },
    {
      "cell_type": "markdown",
      "source": "**Objetives:**\n* Some of the popular languages that Data Scientists use are.\n* Some of the commonly used libraries used by Data Scientists.\n* Few examples of evaluating arithmetic expressions in Python.",
      "metadata": {}
    },
    {
      "cell_type": "markdown",
      "source": "Some of the popular languages that Data Scientists use are:\n\n1. Python\n2. R\n3. SQL",
      "metadata": {}
    },
    {
      "cell_type": "markdown",
      "source": "Some of the commonly used libraries used by Data Scientists include:\n\n1. Numpy\n2. Pandas\n3. Matplotlib",
      "metadata": {}
    },
    {
      "cell_type": "markdown",
      "source": "| Data Science Tools |\n|---|\n| TensorFlow |\n| Apache Spark |\n| Hadoop |",
      "metadata": {}
    },
    {
      "cell_type": "markdown",
      "source": "<H3>Below are a few examples of evaluating arithmetic expressions in Python:\n    \n    1+1 = 2\n    2*3 = 6\n</H3>",
      "metadata": {}
    },
    {
      "cell_type": "code",
      "source": "'This a simple arithmetic expression to mutiply then add integers:'\n    \n(3*4)+5",
      "metadata": {
        "trusted": true
      },
      "execution_count": 5,
      "outputs": [
        {
          "execution_count": 5,
          "output_type": "execute_result",
          "data": {
            "text/plain": "17"
          },
          "metadata": {}
        }
      ]
    },
    {
      "cell_type": "code",
      "source": "'This will convert 200 minutes to hours by diving by 60'\nSeconds = 200\nHours = Seconds/60\nprint(Hours)",
      "metadata": {
        "trusted": true
      },
      "execution_count": 3,
      "outputs": [
        {
          "name": "stdout",
          "text": "3.3333333333333335\n",
          "output_type": "stream"
        }
      ]
    },
    {
      "cell_type": "markdown",
      "source": "<H2>Author:</H2>\n    \n    \nJuan Pablo Ravetti   ",
      "metadata": {}
    },
    {
      "cell_type": "code",
      "source": "",
      "metadata": {},
      "execution_count": null,
      "outputs": []
    }
  ]
}